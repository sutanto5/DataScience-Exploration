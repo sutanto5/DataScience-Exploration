{
  "nbformat": 4,
  "nbformat_minor": 0,
  "metadata": {
    "colab": {
      "provenance": [],
      "include_colab_link": true
    },
    "kernelspec": {
      "name": "python3",
      "display_name": "Python 3"
    },
    "language_info": {
      "name": "python"
    }
  },
  "cells": [
    {
      "cell_type": "markdown",
      "metadata": {
        "id": "view-in-github",
        "colab_type": "text"
      },
      "source": [
        "<a href=\"https://colab.research.google.com/github/sutanto5/DataScience-Exploration/blob/main/MLScope_Project_1.ipynb\" target=\"_parent\"><img src=\"https://colab.research.google.com/assets/colab-badge.svg\" alt=\"Open In Colab\"/></a>"
      ]
    },
    {
      "cell_type": "code",
      "execution_count": null,
      "metadata": {
        "id": "2iwybCl4o1-u"
      },
      "outputs": [],
      "source": [
        "import numpy as np\n",
        "import pandas as pd\n",
        "import matplotlib.pyplot as plt\n",
        "\n",
        "from sklearn.linear_model import LinearRegression\n",
        "from sklearn.model_selection import train_test_split\n",
        "\n",
        "df = pd.read_csv('/datasets/your_dataset.csv') # reading a dataset using pandas\n"
      ]
    },
    {
      "cell_type": "code",
      "source": [
        "df.head() # view dataset"
      ],
      "metadata": {
        "id": "HWuRhmO-qn-t"
      },
      "execution_count": null,
      "outputs": []
    },
    {
      "cell_type": "code",
      "source": [
        "df.columns # view columns"
      ],
      "metadata": {
        "id": "mo5QPhvvqop-"
      },
      "execution_count": null,
      "outputs": []
    },
    {
      "cell_type": "code",
      "source": [
        "df.drop(columns=['column1',\"column2\",\"column3\"],inplace=True) # remove columns from your dataset, inplace=False returns a separate copy of the dataset while True modifies the dataset directly\n",
        "df.head()"
      ],
      "metadata": {
        "id": "ozsyBim0q_37"
      },
      "execution_count": null,
      "outputs": []
    },
    {
      "cell_type": "code",
      "source": [
        "reg = # replace to intantiate model\n",
        "\n",
        "x_train, x_test, y_train, y_test = # split data into train and test sets"
      ],
      "metadata": {
        "id": "9FpvzZD_rKlg"
      },
      "execution_count": null,
      "outputs": []
    },
    {
      "cell_type": "code",
      "source": [
        "# fit model"
      ],
      "metadata": {
        "id": "VchKfKshsuNg"
      },
      "execution_count": null,
      "outputs": []
    },
    {
      "cell_type": "code",
      "source": [
        "# test model against the test set to see how well the model predicts the y values"
      ],
      "metadata": {
        "id": "xCwc9r5ytvZP"
      },
      "execution_count": null,
      "outputs": []
    },
    {
      "cell_type": "code",
      "source": [
        "# predict using your own data"
      ],
      "metadata": {
        "id": "E_kiu04vt5aE"
      },
      "execution_count": null,
      "outputs": []
    }
  ]
}